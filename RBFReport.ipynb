{
 "cells": [
  {
   "cell_type": "code",
   "execution_count": 1,
   "metadata": {},
   "outputs": [],
   "source": [
    "from ney_parser import imageParser as imp\n",
    "from ney_parser import noiseGenerator as ng\n",
    "from rbf import neyronLayerBuilder as nlb\n",
    "from IPython.display import Image\n",
    "from IPython.core.display import HTML \n",
    "from IPython.core.display import Image, display\n",
    "import starter\n",
    "\n",
    "\n",
    "N = 36\n",
    "H = 5\n",
    "M = 5\n",
    "SIGMA = 6\n",
    "\n",
    "ALPHA = 1\n",
    "BETA = 1\n",
    "D = 0.01\n",
    "\n",
    "learnShapesFiles = [\"./patterns/pattern\" + str(i) + \".png\" for i in range(1, 6)]\n",
    "noises = [5, 10, 15]\n",
    "count = 1\n",
    "\n",
    "learnShapesY = [\n",
    "    [1, 0, 0, 0, 0],\n",
    "    [0, 1, 0, 0, 0],\n",
    "    [0, 0, 1, 0, 0],\n",
    "    [0, 0, 0, 1, 0],\n",
    "    [0, 0, 0, 0, 1]\n",
    "]"
   ]
  },
  {
   "cell_type": "code",
   "execution_count": 2,
   "metadata": {},
   "outputs": [
    {
     "name": "stdout",
     "output_type": "stream",
     "text": [
      "reset values? [y/n]\n",
      "n\n",
      "N = \n",
      "36\n",
      "H = \n",
      "5\n",
      "M = \n",
      "5\n",
      "ALPHA = \n",
      "1\n",
      "BETA = \n",
      "1\n",
      "D = \n",
      "0.01\n",
      "SIGMA = \n",
      "6\n"
     ]
    }
   ],
   "source": [
    "print(\"reset values? [y/n]\")\n",
    "choise = input()\n",
    "if \"y\" in choise:\n",
    "    print(\"input new H:\")\n",
    "    H = int(input())\n",
    "    print(\"input new ALPHA:\")\n",
    "    ALPHA = float(input())\n",
    "    print(\"input new BETA:\")\n",
    "    BETA = float(input())\n",
    "    print(\"input new D:\")\n",
    "    D = float(input())\n",
    "    print(\"input new SIGMA:\")\n",
    "    SIGMA = float(input())\n",
    "    \n",
    "    \n",
    "print(\"N = \")\n",
    "print(N)\n",
    "print(\"H = \")\n",
    "print(H)\n",
    "print(\"M = \")\n",
    "print(M)\n",
    "print(\"ALPHA = \")\n",
    "print(ALPHA)\n",
    "print(\"BETA = \")\n",
    "print(BETA)\n",
    "print(\"D = \")\n",
    "print(D)\n",
    "print(\"SIGMA = \")\n",
    "print(SIGMA)"
   ]
  },
  {
   "cell_type": "code",
   "execution_count": 3,
   "metadata": {},
   "outputs": [
    {
     "name": "stdout",
     "output_type": "stream",
     "text": [
      "regenerate noises? [y/n]\n",
      "y\n"
     ]
    }
   ],
   "source": [
    "print(\"regenerate noises? [y/n]\")\n",
    "choise = input()\n",
    "if \"y\" in choise:\n",
    "    testShapesFiles = starter.generate_noise(learnShapesFiles, count, noises)\n",
    "else:\n",
    "    testShapesFiles = []\n",
    "    for origin in learnShapesFiles:\n",
    "        for i in noises:\n",
    "            outGen = \"./test_images/\" + origin.rsplit(\".\")[1].split(\"/\")[-1] + \"_\" + str(i) + \"_\"\n",
    "            for j in range(0, count):\n",
    "                testShapesFiles.append(outGen + str(j) + \".png\")"
   ]
  },
  {
   "cell_type": "code",
   "execution_count": 4,
   "metadata": {},
   "outputs": [
    {
     "data": {
      "image/png": "[encoded data removed]",
      "text/plain": [
       "<IPython.core.display.Image object>"
      ]
     },
     "metadata": {
      "image/png": {
       "height": 100,
       "width": 100
      }
     },
     "output_type": "display_data"
    },
    {
     "data": {
      "image/png": "[encoded data removed]",
      "text/plain": [
       "<IPython.core.display.Image object>"
      ]
     },
     "metadata": {
      "image/png": {
       "height": 100,
       "width": 100
      }
     },
     "output_type": "display_data"
    },
    {
     "data": {
      "image/png": "[encoded data removed]",
      "text/plain": [
       "<IPython.core.display.Image object>"
      ]
     },
     "metadata": {
      "image/png": {
       "height": 100,
       "width": 100
      }
     },
     "output_type": "display_data"
    },
    {
     "data": {
      "image/png": "[encoded data removed]",
      "text/plain": [
       "<IPython.core.display.Image object>"
      ]
     },
     "metadata": {
      "image/png": {
       "height": 100,
       "width": 100
      }
     },
     "output_type": "display_data"
    },
    {
     "data": {
      "image/png": "[encoded data removed]",
      "text/plain": [
       "<IPython.core.display.Image object>"
      ]
     },
     "metadata": {
      "image/png": {
       "height": 100,
       "width": 100
      }
     },
     "output_type": "display_data"
    }
   ],
   "source": [
    "for file in learnShapesFiles:\n",
    "    display(Image(filename = file, width=100, height=100))"
   ]
  },
  {
   "cell_type": "code",
   "execution_count": 5,
   "metadata": {},
   "outputs": [
    {
     "name": "stdout",
     "output_type": "stream",
     "text": [
      "5 5\n",
      "TEACH WAS COMPLETE = 3\n",
      "TEACH WAS COMPLETE = 4\n",
      "TEACH WAS COMPLETE = 3\n",
      "TEACH WAS COMPLETE = 3\n",
      "TEACH WAS COMPLETE = 4\n"
     ]
    }
   ],
   "source": [
    "teachShapes = []\n",
    "\n",
    "for fileName in learnShapesFiles:\n",
    "    shape = imp.parse_image_to_shape(fileName)\n",
    "    teachShapes.append(shape)\n",
    "builder = nlb.NeyronLayerBuilder(N, H, M, SIGMA)\n",
    "builder.randomInit(-1, 1)\n",
    "builder.init_centres(teachShapes)\n",
    "\n",
    "for i in range(0, len(teachShapes)):\n",
    "    builder.teach(teachShapes[i], learnShapesY[i], ALPHA, BETA, D)"
   ]
  },
  {
   "cell_type": "code",
   "execution_count": 7,
   "metadata": {},
   "outputs": [
    {
     "name": "stdout",
     "output_type": "stream",
     "text": [
      "------------------------------------------\n",
      "1 - origin image\n"
     ]
    },
    {
     "data": {
      "image/png": "[encoded data removed]",
      "text/plain": [
       "<IPython.core.display.Image object>"
      ]
     },
     "metadata": {
      "image/png": {
       "height": 100,
       "width": 100
      }
     },
     "output_type": "display_data"
    },
    {
     "name": "stdout",
     "output_type": "stream",
     "text": [
      "[0.5562189736622098, 0.2996186065250269, 0.04928147458969112, -0.014058917078333368, 0.11738642175279165]\n",
      "------------------------------------------\n",
      "1 - origin image\n"
     ]
    },
    {
     "data": {
      "image/png": "[encoded data removed]",
      "text/plain": [
       "<IPython.core.display.Image object>"
      ]
     },
     "metadata": {
      "image/png": {
       "height": 100,
       "width": 100
      }
     },
     "output_type": "display_data"
    },
    {
     "name": "stdout",
     "output_type": "stream",
     "text": [
      "[0.4423634107096479, 0.23669960048007213, 0.041650409647514194, 0.005123077035464576, 0.1150269127501986]\n",
      "------------------------------------------\n",
      "1 - origin image\n"
     ]
    },
    {
     "data": {
      "image/png": "[encoded data removed]",
      "text/plain": [
       "<IPython.core.display.Image object>"
      ]
     },
     "metadata": {
      "image/png": {
       "height": 100,
       "width": 100
      }
     },
     "output_type": "display_data"
    },
    {
     "name": "stdout",
     "output_type": "stream",
     "text": [
      "[0.3617641618485669, 0.22407614234272522, 0.014368634201183603, 0.03441840622191907, 0.09588346765503084]\n",
      "------------------------------------------\n",
      "2 - origin image\n"
     ]
    },
    {
     "data": {
      "image/png": "[encoded data removed]",
      "text/plain": [
       "<IPython.core.display.Image object>"
      ]
     },
     "metadata": {
      "image/png": {
       "height": 100,
       "width": 100
      }
     },
     "output_type": "display_data"
    },
    {
     "name": "stdout",
     "output_type": "stream",
     "text": [
      "[0.1763972662863631, 0.9630952129238296, 0.04210772539285331, 0.044342605657019564, 0.2728096649429484]\n",
      "------------------------------------------\n",
      "2 - origin image\n"
     ]
    },
    {
     "data": {
      "image/png": "[encoded data removed]",
      "text/plain": [
       "<IPython.core.display.Image object>"
      ]
     },
     "metadata": {
      "image/png": {
       "height": 100,
       "width": 100
      }
     },
     "output_type": "display_data"
    },
    {
     "name": "stdout",
     "output_type": "stream",
     "text": [
      "[0.1636287175565112, 0.7614182957225727, 0.022674074220234992, 0.04950805179755081, 0.26739666784045857]\n",
      "------------------------------------------\n",
      "2 - origin image\n"
     ]
    },
    {
     "data": {
      "image/png": "[encoded data removed]",
      "text/plain": [
       "<IPython.core.display.Image object>"
      ]
     },
     "metadata": {
      "image/png": {
       "height": 100,
       "width": 100
      }
     },
     "output_type": "display_data"
    },
    {
     "name": "stdout",
     "output_type": "stream",
     "text": [
      "[0.1290950237273697, 0.6117055548631953, 0.019569503550451867, 0.06287154059517724, 0.22159870251325406]\n",
      "------------------------------------------\n",
      "3 - origin image\n"
     ]
    },
    {
     "data": {
      "image/png": "[encoded data removed]",
      "text/plain": [
       "<IPython.core.display.Image object>"
      ]
     },
     "metadata": {
      "image/png": {
       "height": 100,
       "width": 100
      }
     },
     "output_type": "display_data"
    },
    {
     "name": "stdout",
     "output_type": "stream",
     "text": [
      "[-0.12066508167530043, 0.11394582326388278, 0.5146667233301213, -0.015834334854706675, 0.3618085582298593]\n",
      "------------------------------------------\n",
      "3 - origin image\n"
     ]
    },
    {
     "data": {
      "image/png": "[encoded data removed]",
      "text/plain": [
       "<IPython.core.display.Image object>"
      ]
     },
     "metadata": {
      "image/png": {
       "height": 100,
       "width": 100
      }
     },
     "output_type": "display_data"
    },
    {
     "name": "stdout",
     "output_type": "stream",
     "text": [
      "[-0.08139921966054788, 0.09651752457900653, 0.385266867560008, 0.05761859807755318, 0.3036566577346348]\n",
      "------------------------------------------\n",
      "3 - origin image\n"
     ]
    },
    {
     "data": {
      "image/png": "[encoded data removed]",
      "text/plain": [
       "<IPython.core.display.Image object>"
      ]
     },
     "metadata": {
      "image/png": {
       "height": 100,
       "width": 100
      }
     },
     "output_type": "display_data"
    },
    {
     "name": "stdout",
     "output_type": "stream",
     "text": [
      "[-0.038453977480376766, 0.09231414663330492, 0.2915179979168808, 0.08103598858928143, 0.28358277778329666]\n",
      "------------------------------------------\n",
      "4 - origin image\n"
     ]
    },
    {
     "data": {
      "image/png": "[encoded data removed]",
      "text/plain": [
       "<IPython.core.display.Image object>"
      ]
     },
     "metadata": {
      "image/png": {
       "height": 100,
       "width": 100
      }
     },
     "output_type": "display_data"
    },
    {
     "name": "stdout",
     "output_type": "stream",
     "text": [
      "[0.047884947664168336, 0.056258919258285744, -0.19932634047694006, 0.7095139443664074, 0.32683482710990674]\n",
      "------------------------------------------\n",
      "4 - origin image\n"
     ]
    },
    {
     "data": {
      "image/png": "[encoded data removed]",
      "text/plain": [
       "<IPython.core.display.Image object>"
      ]
     },
     "metadata": {
      "image/png": {
       "height": 100,
       "width": 100
      }
     },
     "output_type": "display_data"
    },
    {
     "name": "stdout",
     "output_type": "stream",
     "text": [
      "[0.024008334421522153, 0.07990624615887165, -0.08365711109310696, 0.549192467228954, 0.27905789449038604]\n",
      "------------------------------------------\n",
      "4 - origin image\n"
     ]
    },
    {
     "data": {
      "image/png": "[encoded data removed]",
      "text/plain": [
       "<IPython.core.display.Image object>"
      ]
     },
     "metadata": {
      "image/png": {
       "height": 100,
       "width": 100
      }
     },
     "output_type": "display_data"
    },
    {
     "name": "stdout",
     "output_type": "stream",
     "text": [
      "[0.026800128985583937, 0.09557621300566144, -0.03756467327477554, 0.4292584431219373, 0.2568512563774519]\n",
      "------------------------------------------\n",
      "5 - origin image\n"
     ]
    },
    {
     "data": {
      "image/png": "[encoded data removed]",
      "text/plain": [
       "<IPython.core.display.Image object>"
      ]
     },
     "metadata": {
      "image/png": {
       "height": 100,
       "width": 100
      }
     },
     "output_type": "display_data"
    },
    {
     "name": "stdout",
     "output_type": "stream",
     "text": [
      "[0.018538880170347813, 0.14182675131327832, 0.05706342084794906, -0.009886699777981567, 0.8165584814597946]\n",
      "------------------------------------------\n",
      "5 - origin image\n"
     ]
    },
    {
     "data": {
      "image/png": "[encoded data removed]",
      "text/plain": [
       "<IPython.core.display.Image object>"
      ]
     },
     "metadata": {
      "image/png": {
       "height": 100,
       "width": 100
      }
     },
     "output_type": "display_data"
    },
    {
     "name": "stdout",
     "output_type": "stream",
     "text": [
      "[0.014414379770713255, 0.0578215793504854, 0.01599900082302344, 0.06642923531192954, 0.6672715805549646]\n",
      "------------------------------------------\n",
      "5 - origin image\n"
     ]
    },
    {
     "data": {
      "image/png": "[encoded data removed]",
      "text/plain": [
       "<IPython.core.display.Image object>"
      ]
     },
     "metadata": {
      "image/png": {
       "height": 100,
       "width": 100
      }
     },
     "output_type": "display_data"
    },
    {
     "name": "stdout",
     "output_type": "stream",
     "text": [
      "[0.015280403225390905, 0.1562395076079767, 0.02595439192711972, 0.08380172817301695, 0.5481652497442528]\n"
     ]
    }
   ],
   "source": [
    "layerNetwork = builder.build()\n",
    "con = 0\n",
    "for test in testShapesFiles:\n",
    "    print(\"------------------------------------------\")\n",
    "    print(str((con//3) + 1)  + \" - origin image\")\n",
    "    display(Image(filename = test, width=100, height=100))\n",
    "    print(layerNetwork.test_shape(imp.parse_image_to_shape(test)))\n",
    "    con += 1"
   ]
  },
  {
   "cell_type": "code",
   "execution_count": null,
   "metadata": {},
   "outputs": [],
   "source": []
  }
 ],
 "metadata": {
  "kernelspec": {
   "display_name": "Python 3",
   "language": "python",
   "name": "python3"
  },
  "language_info": {
   "codemirror_mode": {
    "name": "ipython",
    "version": 3
   },
   "file_extension": ".py",
   "mimetype": "text/x-python",
   "name": "python",
   "nbconvert_exporter": "python",
   "pygments_lexer": "ipython3",
   "version": "3.6.3"
  }
 },
 "nbformat": 4,
 "nbformat_minor": 2
}
